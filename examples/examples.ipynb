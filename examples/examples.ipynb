{
 "cells": [
  {
   "cell_type": "code",
   "execution_count": 229,
   "metadata": {
    "ExecuteTime": {
     "end_time": "2021-10-22T01:51:21.545410Z",
     "start_time": "2021-10-22T01:51:21.516929Z"
    }
   },
   "outputs": [
    {
     "name": "stdout",
     "output_type": "stream",
     "text": [
      "The autoreload extension is already loaded. To reload it, use:\n",
      "  %reload_ext autoreload\n"
     ]
    }
   ],
   "source": [
    "%load_ext autoreload\n",
    "%autoreload 2\n",
    "\n",
    "import os,sys,inspect\n",
    "current_dir = os.path.dirname(os.path.abspath(inspect.getfile(inspect.currentframe())))\n",
    "parent_dir = os.path.dirname(current_dir)\n",
    "sys.path.insert(0, parent_dir) \n",
    "\n",
    "import numpy as np\n",
    "import matplotlib.pyplot as plt\n",
    "\n",
    "from oed import OED\n",
    "from oed.utils import *"
   ]
  },
  {
   "cell_type": "markdown",
   "metadata": {},
   "source": [
    "The forward model used in this notebook is \n",
    "$y(\\theta,d) = G(\\theta,d) + \\epsilon = \\theta^3 d^2 + \\theta \\exp(-|0.2-d|) + \\epsilon$\n",
    "\n",
    "Please refer to https://www.sciencedirect.com/science/article/pii/S0021999112004597?casa_token=UsHwNKTdL_MAAAAA:FxO_GF0U9dcFSm137MJl5VZjA3Ruom58zgTCBghK98wa8RvfTexid_789oyVYP_I4hbHW5E for more details."
   ]
  },
  {
   "cell_type": "markdown",
   "metadata": {},
   "source": [
    "# One stage, one design variable"
   ]
  },
  {
   "cell_type": "code",
   "execution_count": 137,
   "metadata": {
    "ExecuteTime": {
     "end_time": "2021-10-22T01:16:52.540186Z",
     "start_time": "2021-10-22T01:16:52.517870Z"
    }
   },
   "outputs": [],
   "source": [
    "def model_1(theta, d):\n",
    "    \"\"\"\n",
    "    Linear model function G(theta, d) = theta * d\n",
    "\n",
    "    Parameters\n",
    "    ----------\n",
    "    stage : int\n",
    "        The stage index of the experiment.\n",
    "    theta : np.ndarray of size (n_sample or 1, n_param)\n",
    "        The value of unknown linear model parameters.\n",
    "    d : np.ndarray of size (n_sample or 1, n_design)\n",
    "        The design variable.\n",
    "\n",
    "    Returns\n",
    "    -------\n",
    "    numpy.ndarray of size (n_sample, n_obs)\n",
    "        The output of the linear model.\n",
    "    \"\"\"\n",
    "    return theta ** 3 * d ** 2 + theta * np.exp(-np.abs(0.2 - d))"
   ]
  },
  {
   "cell_type": "code",
   "execution_count": 172,
   "metadata": {
    "ExecuteTime": {
     "end_time": "2021-10-22T01:25:07.687056Z",
     "start_time": "2021-10-22T01:25:07.663327Z"
    }
   },
   "outputs": [],
   "source": [
    "n_param = 1 # Number of parameters.\n",
    "n_design = 1 # Number of design variables.\n",
    "n_obs = 1 # Number of observations.\n",
    "\n",
    "low = 0\n",
    "high = 1\n",
    "prior_rvs = lambda n_sample: np.random.uniform(low=low,\n",
    "                                               high=high,\n",
    "                                               size=(n_sample, n_param))\n",
    "prior_logpdf = lambda theta: uniform_logpdf(theta,\n",
    "                                            low=low,\n",
    "                                            high=high)\n",
    "\n",
    "design_bounds = [(0, 1),] # lower and upper bounds of design variables.\n",
    "\n",
    "# Noise if following N(noise_loc, noise_base_scale + noise_ratio_scale * abs(G))\n",
    "noise_loc = 0\n",
    "noise_base_scale = 0.01\n",
    "noise_ratio_scale = 0\n",
    "noise_info = [(noise_loc, noise_base_scale, noise_ratio_scale),]\n",
    "\n",
    "# Random state could be eith an integer or None.\n",
    "random_state = 2021"
   ]
  },
  {
   "cell_type": "code",
   "execution_count": 173,
   "metadata": {
    "ExecuteTime": {
     "end_time": "2021-10-22T01:25:07.885971Z",
     "start_time": "2021-10-22T01:25:07.864297Z"
    }
   },
   "outputs": [],
   "source": [
    "oed_1 = OED(model_fun=model_1,\n",
    "            n_param=n_param,\n",
    "            n_design=n_design,\n",
    "            n_obs=n_obs,\n",
    "            prior_rvs=prior_rvs,\n",
    "            design_bounds=design_bounds,\n",
    "            noise_info=noise_info,\n",
    "            prior_logpdf=prior_logpdf,\n",
    "            reward_fun=None,\n",
    "            random_state=random_state)"
   ]
  },
  {
   "cell_type": "code",
   "execution_count": 174,
   "metadata": {
    "ExecuteTime": {
     "end_time": "2021-10-22T01:25:09.177922Z",
     "start_time": "2021-10-22T01:25:08.055503Z"
    }
   },
   "outputs": [
    {
     "data": {
      "image/png": "[encoded data removed]",
      "text/plain": [
       "<Figure size 432x288 with 1 Axes>"
      ]
     },
     "metadata": {
      "needs_background": "light"
     },
     "output_type": "display_data"
    }
   ],
   "source": [
    "ds = np.linspace(design_bounds[0][0], design_bounds[0][1], 21)\n",
    "Us = []\n",
    "thetas = prior_rvs(1000)\n",
    "noises = np.random.normal(size=(1000, n_obs))\n",
    "for d in ds:\n",
    "    Us.append(oed_1.exp_utility(d, thetas, noises))\n",
    "\n",
    "plt.figure(figsize=(6, 4))\n",
    "plt.plot(ds, Us)\n",
    "plt.xlabel('d', fontsize=20)\n",
    "plt.ylabel('U(d)', fontsize=20)\n",
    "plt.xticks(fontsize=15)\n",
    "plt.yticks(fontsize=15)\n",
    "plt.grid(ls='--')\n",
    "plt.show()"
   ]
  },
  {
   "cell_type": "code",
   "execution_count": 175,
   "metadata": {
    "ExecuteTime": {
     "end_time": "2021-10-22T01:25:13.729360Z",
     "start_time": "2021-10-22T01:25:09.221968Z"
    }
   },
   "outputs": [
    {
     "name": "stdout",
     "output_type": "stream",
     "text": [
      "Optimizing\n",
      "|   iter    |  target   |    d1     |\n",
      "-------------------------------------\n",
      "| \u001b[0m 1       \u001b[0m | \u001b[0m 3.16    \u001b[0m | \u001b[0m 0.606   \u001b[0m |\n",
      "| \u001b[95m 2       \u001b[0m | \u001b[95m 3.205   \u001b[0m | \u001b[95m 0.7334  \u001b[0m |\n",
      "| \u001b[0m 3       \u001b[0m | \u001b[0m 3.128   \u001b[0m | \u001b[0m 0.1389  \u001b[0m |\n",
      "| \u001b[0m 4       \u001b[0m | \u001b[0m 3.157   \u001b[0m | \u001b[0m 0.3127  \u001b[0m |\n",
      "| \u001b[95m 5       \u001b[0m | \u001b[95m 3.346   \u001b[0m | \u001b[95m 0.9972  \u001b[0m |\n",
      "| \u001b[95m 6       \u001b[0m | \u001b[95m 3.348   \u001b[0m | \u001b[95m 1.0     \u001b[0m |\n",
      "| \u001b[0m 7       \u001b[0m | \u001b[0m 3.348   \u001b[0m | \u001b[0m 1.0     \u001b[0m |\n",
      "| \u001b[0m 8       \u001b[0m | \u001b[0m 3.348   \u001b[0m | \u001b[0m 1.0     \u001b[0m |\n",
      "| \u001b[0m 9       \u001b[0m | \u001b[0m 3.348   \u001b[0m | \u001b[0m 1.0     \u001b[0m |\n",
      "| \u001b[0m 10      \u001b[0m | \u001b[0m 3.348   \u001b[0m | \u001b[0m 1.0     \u001b[0m |\n",
      "| \u001b[0m 11      \u001b[0m | \u001b[0m 3.348   \u001b[0m | \u001b[0m 1.0     \u001b[0m |\n",
      "| \u001b[0m 12      \u001b[0m | \u001b[0m 3.348   \u001b[0m | \u001b[0m 1.0     \u001b[0m |\n",
      "| \u001b[0m 13      \u001b[0m | \u001b[0m 3.348   \u001b[0m | \u001b[0m 1.0     \u001b[0m |\n",
      "| \u001b[0m 14      \u001b[0m | \u001b[0m 3.348   \u001b[0m | \u001b[0m 1.0     \u001b[0m |\n",
      "| \u001b[0m 15      \u001b[0m | \u001b[0m 3.348   \u001b[0m | \u001b[0m 1.0     \u001b[0m |\n",
      "| \u001b[0m 16      \u001b[0m | \u001b[0m 3.348   \u001b[0m | \u001b[0m 1.0     \u001b[0m |\n",
      "| \u001b[0m 17      \u001b[0m | \u001b[0m 3.348   \u001b[0m | \u001b[0m 1.0     \u001b[0m |\n",
      "| \u001b[0m 18      \u001b[0m | \u001b[0m 3.348   \u001b[0m | \u001b[0m 1.0     \u001b[0m |\n",
      "| \u001b[0m 19      \u001b[0m | \u001b[0m 3.348   \u001b[0m | \u001b[0m 1.0     \u001b[0m |\n",
      "| \u001b[0m 20      \u001b[0m | \u001b[0m 3.348   \u001b[0m | \u001b[0m 1.0     \u001b[0m |\n",
      "| \u001b[0m 21      \u001b[0m | \u001b[0m 3.348   \u001b[0m | \u001b[0m 1.0     \u001b[0m |\n",
      "| \u001b[0m 22      \u001b[0m | \u001b[0m 3.348   \u001b[0m | \u001b[0m 1.0     \u001b[0m |\n",
      "| \u001b[0m 23      \u001b[0m | \u001b[0m 3.348   \u001b[0m | \u001b[0m 1.0     \u001b[0m |\n",
      "| \u001b[0m 24      \u001b[0m | \u001b[0m 3.348   \u001b[0m | \u001b[0m 1.0     \u001b[0m |\n",
      "| \u001b[0m 25      \u001b[0m | \u001b[0m 3.348   \u001b[0m | \u001b[0m 1.0     \u001b[0m |\n",
      "| \u001b[0m 26      \u001b[0m | \u001b[0m 3.348   \u001b[0m | \u001b[0m 1.0     \u001b[0m |\n",
      "| \u001b[0m 27      \u001b[0m | \u001b[0m 3.348   \u001b[0m | \u001b[0m 1.0     \u001b[0m |\n",
      "| \u001b[0m 28      \u001b[0m | \u001b[0m 3.348   \u001b[0m | \u001b[0m 1.0     \u001b[0m |\n",
      "| \u001b[0m 29      \u001b[0m | \u001b[0m 3.348   \u001b[0m | \u001b[0m 1.0     \u001b[0m |\n",
      "| \u001b[0m 30      \u001b[0m | \u001b[0m 3.348   \u001b[0m | \u001b[0m 1.0     \u001b[0m |\n",
      "| \u001b[0m 31      \u001b[0m | \u001b[0m 3.348   \u001b[0m | \u001b[0m 1.0     \u001b[0m |\n",
      "| \u001b[0m 32      \u001b[0m | \u001b[0m 3.348   \u001b[0m | \u001b[0m 1.0     \u001b[0m |\n",
      "| \u001b[0m 33      \u001b[0m | \u001b[0m 3.348   \u001b[0m | \u001b[0m 0.9999  \u001b[0m |\n",
      "| \u001b[0m 34      \u001b[0m | \u001b[0m 3.348   \u001b[0m | \u001b[0m 0.9997  \u001b[0m |\n",
      "| \u001b[0m 35      \u001b[0m | \u001b[0m 3.348   \u001b[0m | \u001b[0m 0.9997  \u001b[0m |\n",
      "=====================================\n"
     ]
    }
   ],
   "source": [
    "d_opt, U_opt = oed_1.oed(n_sample=1000, n_init=5, n_iter=30)"
   ]
  },
  {
   "cell_type": "code",
   "execution_count": 176,
   "metadata": {
    "ExecuteTime": {
     "end_time": "2021-10-22T01:25:13.791084Z",
     "start_time": "2021-10-22T01:25:13.773155Z"
    }
   },
   "outputs": [
    {
     "name": "stdout",
     "output_type": "stream",
     "text": [
      "Optimal design: [1.]\n",
      "Maximum expected utility: 3.347830244735249\n"
     ]
    }
   ],
   "source": [
    "print(\"Optimal design:\", d_opt)\n",
    "print(\"Maximum expected utility:\", U_opt)"
   ]
  },
  {
   "cell_type": "markdown",
   "metadata": {},
   "source": [
    "# One stage, two design variables in a batch"
   ]
  },
  {
   "cell_type": "code",
   "execution_count": 178,
   "metadata": {
    "ExecuteTime": {
     "end_time": "2021-10-22T01:26:54.208478Z",
     "start_time": "2021-10-22T01:26:54.184753Z"
    }
   },
   "outputs": [],
   "source": [
    "def model_2(theta, d):\n",
    "    \"\"\"\n",
    "    Linear model function G(theta, d) = theta * d\n",
    "\n",
    "    Parameters\n",
    "    ----------\n",
    "    stage : int\n",
    "        The stage index of the experiment.\n",
    "    theta : np.ndarray of size (n_sample or 1, n_param)\n",
    "        The value of unknown linear model parameters.\n",
    "    d : np.ndarray of size (n_sample or 1, n_design)\n",
    "        The design variable.\n",
    "\n",
    "    Returns\n",
    "    -------\n",
    "    numpy.ndarray of size (n_sample, n_obs)\n",
    "        The output of the linear model.\n",
    "    \"\"\"\n",
    "    d1 = d[:, 0:1]\n",
    "    d2 = d[:, 1:2]\n",
    "    return np.c_[theta ** 3 * d1 ** 2 + theta * np.exp(-np.abs(0.2 - d1)),\n",
    "                 theta ** 3 * d2 ** 2 + theta * np.exp(-np.abs(0.2 - d2))]"
   ]
  },
  {
   "cell_type": "code",
   "execution_count": 179,
   "metadata": {
    "ExecuteTime": {
     "end_time": "2021-10-22T01:27:18.740631Z",
     "start_time": "2021-10-22T01:27:18.714423Z"
    }
   },
   "outputs": [],
   "source": [
    "n_param = 1 # Number of parameters.\n",
    "n_design = 2 # Number of design variables.\n",
    "n_obs = 2 # Number of observations.\n",
    "\n",
    "low = 0\n",
    "high = 1\n",
    "prior_rvs = lambda n_sample: np.random.uniform(low=low,\n",
    "                                               high=high,\n",
    "                                               size=(n_sample, n_param))\n",
    "prior_logpdf = lambda theta: uniform_logpdf(theta,\n",
    "                                            low=low,\n",
    "                                            high=high)\n",
    "\n",
    "design_bounds = [(0, 1), (0, 1)] # lower and upper bounds of design variables.\n",
    "\n",
    "# Noise if following N(noise_loc, noise_base_scale + noise_ratio_scale * abs(G))\n",
    "noise_loc = 0\n",
    "noise_base_scale = 0.01\n",
    "noise_ratio_scale = 0\n",
    "noise_info = [(noise_loc, noise_base_scale, noise_ratio_scale),\n",
    "              (noise_loc, noise_base_scale, noise_ratio_scale)]\n",
    "\n",
    "# Random state could be eith an integer or None.\n",
    "random_state = 2021"
   ]
  },
  {
   "cell_type": "code",
   "execution_count": 190,
   "metadata": {
    "ExecuteTime": {
     "end_time": "2021-10-22T01:33:03.042915Z",
     "start_time": "2021-10-22T01:33:03.020108Z"
    }
   },
   "outputs": [],
   "source": [
    "oed_2 = OED(model_fun=model_2,\n",
    "            n_param=n_param,\n",
    "            n_design=n_design,\n",
    "            n_obs=n_obs,\n",
    "            prior_rvs=prior_rvs,\n",
    "            design_bounds=design_bounds,\n",
    "            noise_info=noise_info,\n",
    "            prior_logpdf=prior_logpdf,\n",
    "            reward_fun=None,\n",
    "            random_state=random_state)"
   ]
  },
  {
   "cell_type": "code",
   "execution_count": 181,
   "metadata": {
    "ExecuteTime": {
     "end_time": "2021-10-22T01:29:55.664468Z",
     "start_time": "2021-10-22T01:29:16.998831Z"
    }
   },
   "outputs": [],
   "source": [
    "ds = np.linspace(design_bounds[0][0], design_bounds[0][1], 21)\n",
    "dX, dY = np.meshgrid(ds, ds)\n",
    "Us = np.zeros_like(dX)\n",
    "thetas = prior_rvs(1000)\n",
    "noises = np.random.normal(size=(1000, n_obs))\n",
    "for i in range(21):\n",
    "    for j in range(21):\n",
    "        Us[i][j] = oed_2.exp_utility(np.array([dX[i, j], dY[i, j]]), \n",
    "                                     thetas, noises)"
   ]
  },
  {
   "cell_type": "code",
   "execution_count": 186,
   "metadata": {
    "ExecuteTime": {
     "end_time": "2021-10-22T01:32:12.543761Z",
     "start_time": "2021-10-22T01:32:12.320667Z"
    }
   },
   "outputs": [
    {
     "data": {
      "image/png": "[encoded data removed]",
      "text/plain": [
       "<Figure size 432x288 with 2 Axes>"
      ]
     },
     "metadata": {
      "needs_background": "light"
     },
     "output_type": "display_data"
    }
   ],
   "source": [
    "plt.figure(figsize=(6, 4))\n",
    "plt.contourf(dX, dY, Us)\n",
    "plt.xlabel('$d_1$', fontsize=20)\n",
    "plt.ylabel('$d_2$', fontsize=20)\n",
    "plt.xticks(fontsize=15)\n",
    "plt.yticks(fontsize=15)\n",
    "plt.grid(ls='--')\n",
    "cbar = plt.colorbar()\n",
    "cbar.ax.tick_params(labelsize=15)\n",
    "plt.show()"
   ]
  },
  {
   "cell_type": "code",
   "execution_count": 191,
   "metadata": {
    "ExecuteTime": {
     "end_time": "2021-10-22T01:33:12.541970Z",
     "start_time": "2021-10-22T01:33:04.923515Z"
    }
   },
   "outputs": [
    {
     "name": "stdout",
     "output_type": "stream",
     "text": [
      "Optimizing\n",
      "|   iter    |  target   |    d1     |    d2     |\n",
      "-------------------------------------------------\n",
      "| \u001b[0m 1       \u001b[0m | \u001b[0m 3.543   \u001b[0m | \u001b[0m 0.606   \u001b[0m | \u001b[0m 0.7334  \u001b[0m |\n",
      "| \u001b[0m 2       \u001b[0m | \u001b[0m 3.509   \u001b[0m | \u001b[0m 0.1389  \u001b[0m | \u001b[0m 0.3127  \u001b[0m |\n",
      "| \u001b[95m 3       \u001b[0m | \u001b[95m 3.702   \u001b[0m | \u001b[95m 0.9972  \u001b[0m | \u001b[95m 0.1282  \u001b[0m |\n",
      "| \u001b[0m 4       \u001b[0m | \u001b[0m 3.589   \u001b[0m | \u001b[0m 0.179   \u001b[0m | \u001b[0m 0.7529  \u001b[0m |\n",
      "| \u001b[0m 5       \u001b[0m | \u001b[0m 3.563   \u001b[0m | \u001b[0m 0.6622  \u001b[0m | \u001b[0m 0.7843  \u001b[0m |\n",
      "| \u001b[0m 6       \u001b[0m | \u001b[0m 3.426   \u001b[0m | \u001b[0m 0.09689 \u001b[0m | \u001b[0m 0.05857 \u001b[0m |\n",
      "| \u001b[0m 7       \u001b[0m | \u001b[0m 3.641   \u001b[0m | \u001b[0m 0.9624  \u001b[0m | \u001b[0m 0.6166  \u001b[0m |\n",
      "| \u001b[0m 8       \u001b[0m | \u001b[0m 3.484   \u001b[0m | \u001b[0m 0.08663 \u001b[0m | \u001b[0m 0.5613  \u001b[0m |\n",
      "| \u001b[0m 9       \u001b[0m | \u001b[0m 3.621   \u001b[0m | \u001b[0m 0.6165  \u001b[0m | \u001b[0m 0.9638  \u001b[0m |\n",
      "| \u001b[0m 10      \u001b[0m | \u001b[0m 3.52    \u001b[0m | \u001b[0m 0.5743  \u001b[0m | \u001b[0m 0.3712  \u001b[0m |\n",
      "| \u001b[0m 11      \u001b[0m | \u001b[0m 3.619   \u001b[0m | \u001b[0m 0.0     \u001b[0m | \u001b[0m 1.0     \u001b[0m |\n",
      "| \u001b[95m 12      \u001b[0m | \u001b[95m 3.704   \u001b[0m | \u001b[95m 1.0     \u001b[0m | \u001b[95m 1.0     \u001b[0m |\n",
      "| \u001b[0m 13      \u001b[0m | \u001b[0m 3.654   \u001b[0m | \u001b[0m 1.0     \u001b[0m | \u001b[0m 0.0     \u001b[0m |\n",
      "| \u001b[0m 14      \u001b[0m | \u001b[0m 3.688   \u001b[0m | \u001b[0m 0.2625  \u001b[0m | \u001b[0m 1.0     \u001b[0m |\n",
      "| \u001b[0m 15      \u001b[0m | \u001b[0m 3.7     \u001b[0m | \u001b[0m 1.0     \u001b[0m | \u001b[0m 0.3261  \u001b[0m |\n",
      "| \u001b[0m 16      \u001b[0m | \u001b[0m 3.673   \u001b[0m | \u001b[0m 0.9989  \u001b[0m | \u001b[0m 0.8553  \u001b[0m |\n",
      "| \u001b[95m 17      \u001b[0m | \u001b[95m 3.73    \u001b[0m | \u001b[95m 1.0     \u001b[0m | \u001b[95m 0.2201  \u001b[0m |\n",
      "| \u001b[0m 18      \u001b[0m | \u001b[0m 3.466   \u001b[0m | \u001b[0m 0.5991  \u001b[0m | \u001b[0m 0.0     \u001b[0m |\n",
      "| \u001b[0m 19      \u001b[0m | \u001b[0m 3.666   \u001b[0m | \u001b[0m 0.8704  \u001b[0m | \u001b[0m 0.9959  \u001b[0m |\n",
      "| \u001b[0m 20      \u001b[0m | \u001b[0m 3.691   \u001b[0m | \u001b[0m 0.9312  \u001b[0m | \u001b[0m 0.2261  \u001b[0m |\n",
      "| \u001b[0m 21      \u001b[0m | \u001b[0m 3.728   \u001b[0m | \u001b[0m 1.0     \u001b[0m | \u001b[0m 0.2277  \u001b[0m |\n",
      "| \u001b[0m 22      \u001b[0m | \u001b[0m 3.721   \u001b[0m | \u001b[0m 0.9999  \u001b[0m | \u001b[0m 0.2502  \u001b[0m |\n",
      "| \u001b[95m 23      \u001b[0m | \u001b[95m 3.736   \u001b[0m | \u001b[95m 1.0     \u001b[0m | \u001b[95m 0.2012  \u001b[0m |\n",
      "| \u001b[0m 24      \u001b[0m | \u001b[0m 3.654   \u001b[0m | \u001b[0m 0.4125  \u001b[0m | \u001b[0m 1.0     \u001b[0m |\n",
      "| \u001b[0m 25      \u001b[0m | \u001b[0m 3.531   \u001b[0m | \u001b[0m 0.0     \u001b[0m | \u001b[0m 0.8263  \u001b[0m |\n",
      "| \u001b[0m 26      \u001b[0m | \u001b[0m 3.616   \u001b[0m | \u001b[0m 0.3241  \u001b[0m | \u001b[0m 0.8812  \u001b[0m |\n",
      "| \u001b[0m 27      \u001b[0m | \u001b[0m 3.598   \u001b[0m | \u001b[0m 0.8452  \u001b[0m | \u001b[0m 0.4499  \u001b[0m |\n",
      "| \u001b[0m 28      \u001b[0m | \u001b[0m 3.671   \u001b[0m | \u001b[0m 0.1287  \u001b[0m | \u001b[0m 0.9978  \u001b[0m |\n",
      "| \u001b[0m 29      \u001b[0m | \u001b[0m 3.729   \u001b[0m | \u001b[0m 0.9998  \u001b[0m | \u001b[0m 0.1841  \u001b[0m |\n",
      "| \u001b[0m 30      \u001b[0m | \u001b[0m 3.733   \u001b[0m | \u001b[0m 0.9969  \u001b[0m | \u001b[0m 0.1971  \u001b[0m |\n",
      "| \u001b[0m 31      \u001b[0m | \u001b[0m 3.735   \u001b[0m | \u001b[0m 0.9983  \u001b[0m | \u001b[0m 0.2002  \u001b[0m |\n",
      "| \u001b[0m 32      \u001b[0m | \u001b[0m 3.671   \u001b[0m | \u001b[0m 0.9993  \u001b[0m | \u001b[0m 0.4784  \u001b[0m |\n",
      "| \u001b[0m 33      \u001b[0m | \u001b[0m 3.734   \u001b[0m | \u001b[0m 0.9986  \u001b[0m | \u001b[0m 0.1959  \u001b[0m |\n",
      "| \u001b[0m 34      \u001b[0m | \u001b[0m 3.733   \u001b[0m | \u001b[0m 0.9993  \u001b[0m | \u001b[0m 0.1935  \u001b[0m |\n",
      "| \u001b[0m 35      \u001b[0m | \u001b[0m 3.733   \u001b[0m | \u001b[0m 0.9988  \u001b[0m | \u001b[0m 0.2092  \u001b[0m |\n",
      "| \u001b[0m 36      \u001b[0m | \u001b[0m 3.732   \u001b[0m | \u001b[0m 0.9959  \u001b[0m | \u001b[0m 0.1962  \u001b[0m |\n",
      "| \u001b[0m 37      \u001b[0m | \u001b[0m 3.733   \u001b[0m | \u001b[0m 0.9947  \u001b[0m | \u001b[0m 0.2028  \u001b[0m |\n",
      "| \u001b[0m 38      \u001b[0m | \u001b[0m 3.511   \u001b[0m | \u001b[0m 0.3314  \u001b[0m | \u001b[0m 0.4834  \u001b[0m |\n",
      "| \u001b[0m 39      \u001b[0m | \u001b[0m 3.735   \u001b[0m | \u001b[0m 0.9992  \u001b[0m | \u001b[0m 0.1988  \u001b[0m |\n",
      "| \u001b[0m 40      \u001b[0m | \u001b[0m 3.73    \u001b[0m | \u001b[0m 0.9928  \u001b[0m | \u001b[0m 0.1953  \u001b[0m |\n",
      "=================================================\n"
     ]
    }
   ],
   "source": [
    "d_opt, U_opt = oed_2.oed(n_sample=1000, n_init=10, n_iter=30)"
   ]
  },
  {
   "cell_type": "code",
   "execution_count": 192,
   "metadata": {
    "ExecuteTime": {
     "end_time": "2021-10-22T01:33:13.520025Z",
     "start_time": "2021-10-22T01:33:13.498176Z"
    }
   },
   "outputs": [
    {
     "name": "stdout",
     "output_type": "stream",
     "text": [
      "Optimal design: [0.99997425 0.20116306]\n",
      "Maximum expected utility: 3.73601414440137\n"
     ]
    }
   ],
   "source": [
    "print(\"Optimal design:\", d_opt)\n",
    "print(\"Maximum expected utility:\", U_opt)"
   ]
  },
  {
   "cell_type": "markdown",
   "metadata": {},
   "source": [
    "# Two stages in a batch, one design variable in each stage, with a non-KL-divergence reward"
   ]
  },
  {
   "cell_type": "code",
   "execution_count": 200,
   "metadata": {
    "ExecuteTime": {
     "end_time": "2021-10-22T01:39:46.474756Z",
     "start_time": "2021-10-22T01:39:46.451390Z"
    }
   },
   "outputs": [],
   "source": [
    "def model_3(theta, d):\n",
    "    \"\"\"\n",
    "    Linear model function G(theta, d) = theta * d\n",
    "\n",
    "    Parameters\n",
    "    ----------\n",
    "    stage : int\n",
    "        The stage index of the experiment.\n",
    "    theta : np.ndarray of size (n_sample or 1, n_param)\n",
    "        The value of unknown linear model parameters.\n",
    "    d : np.ndarray of size (n_sample or 1, n_design)\n",
    "        The design variable.\n",
    "\n",
    "    Returns\n",
    "    -------\n",
    "    numpy.ndarray of size (n_sample, n_obs)\n",
    "        The output of the linear model.\n",
    "    \"\"\"\n",
    "    d1 = d[:, 0:1]\n",
    "    d2 = d[:, 1:2]\n",
    "    return np.c_[theta ** 3 * d1 ** 2 + theta * np.exp(-np.abs(0.2 - d1)),\n",
    "                 theta ** 3 * d2 ** 2 + theta * np.exp(-np.abs(0.2 - d2))]\n",
    "\n",
    "def reward_fun(d, y):\n",
    "    \"\"\"\n",
    "    Non-KL-divergence based reward function.\n",
    "    \n",
    "    Parameters\n",
    "    ----------\n",
    "    d : np.ndarray of size (n_design)\n",
    "        The design variable.\n",
    "    y : np.ndarray of size (n_obs)\n",
    "        The observation.\n",
    "\n",
    "    Returns\n",
    "    -------\n",
    "    A float which is the reward.\n",
    "    \"\"\"\n",
    "    return -np.abs(d[0])\n",
    "    "
   ]
  },
  {
   "cell_type": "code",
   "execution_count": 201,
   "metadata": {
    "ExecuteTime": {
     "end_time": "2021-10-22T01:39:47.187571Z",
     "start_time": "2021-10-22T01:39:47.163467Z"
    }
   },
   "outputs": [],
   "source": [
    "n_param = 1 # Number of parameters.\n",
    "n_design = 2 # Number of design variables.\n",
    "n_obs = 2 # Number of observations.\n",
    "\n",
    "low = 0\n",
    "high = 1\n",
    "prior_rvs = lambda n_sample: np.random.uniform(low=low,\n",
    "                                               high=high,\n",
    "                                               size=(n_sample, n_param))\n",
    "prior_logpdf = lambda theta: uniform_logpdf(theta,\n",
    "                                            low=low,\n",
    "                                            high=high)\n",
    "\n",
    "design_bounds = [(0, 1), (0, 1)] # lower and upper bounds of design variables.\n",
    "\n",
    "# Noise if following N(noise_loc, noise_base_scale + noise_ratio_scale * abs(G))\n",
    "noise_loc = 0\n",
    "noise_base_scale = 0.01\n",
    "noise_ratio_scale = 0\n",
    "noise_info = [(noise_loc, noise_base_scale, noise_ratio_scale),\n",
    "              (noise_loc, noise_base_scale, noise_ratio_scale)]\n",
    "\n",
    "# Random state could be eith an integer or None.\n",
    "random_state = 2021"
   ]
  },
  {
   "cell_type": "code",
   "execution_count": 204,
   "metadata": {
    "ExecuteTime": {
     "end_time": "2021-10-22T01:40:16.962368Z",
     "start_time": "2021-10-22T01:40:16.940045Z"
    }
   },
   "outputs": [],
   "source": [
    "oed_3 = OED(model_fun=model_3,\n",
    "            n_param=n_param,\n",
    "            n_design=n_design,\n",
    "            n_obs=n_obs,\n",
    "            prior_rvs=prior_rvs,\n",
    "            design_bounds=design_bounds,\n",
    "            noise_info=noise_info,\n",
    "            prior_logpdf=prior_logpdf,\n",
    "            reward_fun=reward_fun,\n",
    "            random_state=random_state)"
   ]
  },
  {
   "cell_type": "code",
   "execution_count": 209,
   "metadata": {
    "ExecuteTime": {
     "end_time": "2021-10-22T01:43:10.008975Z",
     "start_time": "2021-10-22T01:42:33.678534Z"
    }
   },
   "outputs": [],
   "source": [
    "ds = np.linspace(design_bounds[0][0], design_bounds[0][1], 21)\n",
    "dX, dY = np.meshgrid(ds, ds)\n",
    "Us = np.zeros_like(dX)\n",
    "thetas = prior_rvs(1000)\n",
    "noises = np.random.normal(size=(1000, n_obs))\n",
    "for i in range(21):\n",
    "    for j in range(21):\n",
    "        Us[i][j] = oed_3.exp_utility(np.array([dX[i, j], dY[i, j]]), \n",
    "                                     thetas, noises)"
   ]
  },
  {
   "cell_type": "code",
   "execution_count": 210,
   "metadata": {
    "ExecuteTime": {
     "end_time": "2021-10-22T01:43:10.258800Z",
     "start_time": "2021-10-22T01:43:10.081031Z"
    }
   },
   "outputs": [
    {
     "data": {
      "image/png": "[encoded data removed]",
      "text/plain": [
       "<Figure size 432x288 with 2 Axes>"
      ]
     },
     "metadata": {
      "needs_background": "light"
     },
     "output_type": "display_data"
    }
   ],
   "source": [
    "plt.figure(figsize=(6, 4))\n",
    "plt.contourf(dX, dY, Us)\n",
    "plt.xlabel('$d_1$', fontsize=20)\n",
    "plt.ylabel('$d_2$', fontsize=20)\n",
    "plt.xticks(fontsize=15)\n",
    "plt.yticks(fontsize=15)\n",
    "plt.grid(ls='--')\n",
    "cbar = plt.colorbar()\n",
    "cbar.ax.tick_params(labelsize=15)\n",
    "plt.show()"
   ]
  },
  {
   "cell_type": "code",
   "execution_count": 207,
   "metadata": {
    "ExecuteTime": {
     "end_time": "2021-10-22T01:42:28.690753Z",
     "start_time": "2021-10-22T01:42:22.615808Z"
    }
   },
   "outputs": [
    {
     "name": "stdout",
     "output_type": "stream",
     "text": [
      "Optimizing\n",
      "|   iter    |  target   |    d1     |    d2     |\n",
      "-------------------------------------------------\n",
      "| \u001b[0m 1       \u001b[0m | \u001b[0m 2.951   \u001b[0m | \u001b[0m 0.606   \u001b[0m | \u001b[0m 0.7334  \u001b[0m |\n",
      "| \u001b[95m 2       \u001b[0m | \u001b[95m 3.371   \u001b[0m | \u001b[95m 0.1389  \u001b[0m | \u001b[95m 0.3127  \u001b[0m |\n",
      "| \u001b[0m 3       \u001b[0m | \u001b[0m 2.69    \u001b[0m | \u001b[0m 0.9972  \u001b[0m | \u001b[0m 0.1282  \u001b[0m |\n",
      "| \u001b[95m 4       \u001b[0m | \u001b[95m 3.422   \u001b[0m | \u001b[95m 0.179   \u001b[0m | \u001b[95m 0.7529  \u001b[0m |\n",
      "| \u001b[0m 5       \u001b[0m | \u001b[0m 2.915   \u001b[0m | \u001b[0m 0.6622  \u001b[0m | \u001b[0m 0.7843  \u001b[0m |\n",
      "| \u001b[0m 6       \u001b[0m | \u001b[0m 3.323   \u001b[0m | \u001b[0m 0.09689 \u001b[0m | \u001b[0m 0.05857 \u001b[0m |\n",
      "| \u001b[0m 7       \u001b[0m | \u001b[0m 2.676   \u001b[0m | \u001b[0m 0.9624  \u001b[0m | \u001b[0m 0.6166  \u001b[0m |\n",
      "| \u001b[0m 8       \u001b[0m | \u001b[0m 3.407   \u001b[0m | \u001b[0m 0.08663 \u001b[0m | \u001b[0m 0.5613  \u001b[0m |\n",
      "| \u001b[0m 9       \u001b[0m | \u001b[0m 3.026   \u001b[0m | \u001b[0m 0.6165  \u001b[0m | \u001b[0m 0.9638  \u001b[0m |\n",
      "| \u001b[0m 10      \u001b[0m | \u001b[0m 2.946   \u001b[0m | \u001b[0m 0.5743  \u001b[0m | \u001b[0m 0.3712  \u001b[0m |\n",
      "| \u001b[95m 11      \u001b[0m | \u001b[95m 3.644   \u001b[0m | \u001b[95m 0.0     \u001b[0m | \u001b[95m 1.0     \u001b[0m |\n",
      "| \u001b[0m 12      \u001b[0m | \u001b[0m 3.616   \u001b[0m | \u001b[0m 0.0     \u001b[0m | \u001b[0m 0.9503  \u001b[0m |\n",
      "| \u001b[0m 13      \u001b[0m | \u001b[0m 3.614   \u001b[0m | \u001b[0m 0.04533 \u001b[0m | \u001b[0m 0.9994  \u001b[0m |\n",
      "| \u001b[0m 14      \u001b[0m | \u001b[0m 3.614   \u001b[0m | \u001b[0m 0.04533 \u001b[0m | \u001b[0m 0.9994  \u001b[0m |\n",
      "| \u001b[0m 15      \u001b[0m | \u001b[0m 3.614   \u001b[0m | \u001b[0m 0.04533 \u001b[0m | \u001b[0m 0.9994  \u001b[0m |\n",
      "| \u001b[0m 16      \u001b[0m | \u001b[0m 3.614   \u001b[0m | \u001b[0m 0.04533 \u001b[0m | \u001b[0m 0.9994  \u001b[0m |\n",
      "| \u001b[0m 17      \u001b[0m | \u001b[0m 3.614   \u001b[0m | \u001b[0m 0.04533 \u001b[0m | \u001b[0m 0.9994  \u001b[0m |\n",
      "| \u001b[0m 18      \u001b[0m | \u001b[0m 3.614   \u001b[0m | \u001b[0m 0.04533 \u001b[0m | \u001b[0m 0.9994  \u001b[0m |\n",
      "| \u001b[0m 19      \u001b[0m | \u001b[0m 3.614   \u001b[0m | \u001b[0m 0.04533 \u001b[0m | \u001b[0m 0.9994  \u001b[0m |\n",
      "| \u001b[0m 20      \u001b[0m | \u001b[0m 3.614   \u001b[0m | \u001b[0m 0.04533 \u001b[0m | \u001b[0m 0.9994  \u001b[0m |\n",
      "| \u001b[0m 21      \u001b[0m | \u001b[0m 3.614   \u001b[0m | \u001b[0m 0.04533 \u001b[0m | \u001b[0m 0.9994  \u001b[0m |\n",
      "| \u001b[0m 22      \u001b[0m | \u001b[0m 3.614   \u001b[0m | \u001b[0m 0.04533 \u001b[0m | \u001b[0m 0.9994  \u001b[0m |\n",
      "| \u001b[0m 23      \u001b[0m | \u001b[0m 3.614   \u001b[0m | \u001b[0m 0.04533 \u001b[0m | \u001b[0m 0.9994  \u001b[0m |\n",
      "| \u001b[0m 24      \u001b[0m | \u001b[0m 3.614   \u001b[0m | \u001b[0m 0.04533 \u001b[0m | \u001b[0m 0.9994  \u001b[0m |\n",
      "| \u001b[0m 25      \u001b[0m | \u001b[0m 3.644   \u001b[0m | \u001b[0m 0.0     \u001b[0m | \u001b[0m 1.0     \u001b[0m |\n",
      "| \u001b[0m 26      \u001b[0m | \u001b[0m 3.644   \u001b[0m | \u001b[0m 1.957e-0\u001b[0m | \u001b[0m 1.0     \u001b[0m |\n",
      "| \u001b[0m 27      \u001b[0m | \u001b[0m 3.641   \u001b[0m | \u001b[0m 0.003201\u001b[0m | \u001b[0m 0.9988  \u001b[0m |\n",
      "| \u001b[0m 28      \u001b[0m | \u001b[0m 3.644   \u001b[0m | \u001b[0m 4.857e-0\u001b[0m | \u001b[0m 1.0     \u001b[0m |\n",
      "| \u001b[0m 29      \u001b[0m | \u001b[0m 3.644   \u001b[0m | \u001b[0m 0.000165\u001b[0m | \u001b[0m 0.9999  \u001b[0m |\n",
      "| \u001b[0m 30      \u001b[0m | \u001b[0m 3.639   \u001b[0m | \u001b[0m 0.001838\u001b[0m | \u001b[0m 0.9935  \u001b[0m |\n",
      "| \u001b[0m 31      \u001b[0m | \u001b[0m 3.637   \u001b[0m | \u001b[0m 0.001957\u001b[0m | \u001b[0m 0.9906  \u001b[0m |\n",
      "| \u001b[0m 32      \u001b[0m | \u001b[0m 3.637   \u001b[0m | \u001b[0m 0.001957\u001b[0m | \u001b[0m 0.9906  \u001b[0m |\n",
      "| \u001b[0m 33      \u001b[0m | \u001b[0m 3.644   \u001b[0m | \u001b[0m 8.602e-0\u001b[0m | \u001b[0m 1.0     \u001b[0m |\n",
      "| \u001b[0m 34      \u001b[0m | \u001b[0m 3.644   \u001b[0m | \u001b[0m 8.602e-0\u001b[0m | \u001b[0m 1.0     \u001b[0m |\n",
      "| \u001b[0m 35      \u001b[0m | \u001b[0m 3.644   \u001b[0m | \u001b[0m 5.545e-0\u001b[0m | \u001b[0m 1.0     \u001b[0m |\n",
      "| \u001b[0m 36      \u001b[0m | \u001b[0m 3.644   \u001b[0m | \u001b[0m 5.545e-0\u001b[0m | \u001b[0m 1.0     \u001b[0m |\n",
      "| \u001b[0m 37      \u001b[0m | \u001b[0m 3.641   \u001b[0m | \u001b[0m 8.604e-0\u001b[0m | \u001b[0m 0.9947  \u001b[0m |\n",
      "| \u001b[0m 38      \u001b[0m | \u001b[0m 3.642   \u001b[0m | \u001b[0m 0.002883\u001b[0m | \u001b[0m 0.9996  \u001b[0m |\n",
      "| \u001b[0m 39      \u001b[0m | \u001b[0m 3.635   \u001b[0m | \u001b[0m 0.01123 \u001b[0m | \u001b[0m 0.9978  \u001b[0m |\n",
      "| \u001b[0m 40      \u001b[0m | \u001b[0m 3.632   \u001b[0m | \u001b[0m 0.001974\u001b[0m | \u001b[0m 0.9809  \u001b[0m |\n",
      "=================================================\n"
     ]
    }
   ],
   "source": [
    "d_opt, U_opt = oed_3.oed(n_sample=1000, n_init=10, n_iter=30)"
   ]
  },
  {
   "cell_type": "code",
   "execution_count": 208,
   "metadata": {
    "ExecuteTime": {
     "end_time": "2021-10-22T01:42:30.847765Z",
     "start_time": "2021-10-22T01:42:30.825925Z"
    }
   },
   "outputs": [
    {
     "name": "stdout",
     "output_type": "stream",
     "text": [
      "Optimal design: [0. 1.]\n",
      "Maximum expected utility: 3.644135871983378\n"
     ]
    }
   ],
   "source": [
    "print(\"Optimal design:\", d_opt)\n",
    "print(\"Maximum expected utility:\", U_opt)"
   ]
  },
  {
   "cell_type": "markdown",
   "metadata": {},
   "source": [
    "# Four stages sequential design, one design variable in each stage"
   ]
  },
  {
   "cell_type": "code",
   "execution_count": 211,
   "metadata": {
    "ExecuteTime": {
     "end_time": "2021-10-22T01:43:59.423528Z",
     "start_time": "2021-10-22T01:43:59.401360Z"
    }
   },
   "outputs": [],
   "source": [
    "def model_4(theta, d):\n",
    "    \"\"\"\n",
    "    Linear model function G(theta, d) = theta * d\n",
    "\n",
    "    Parameters\n",
    "    ----------\n",
    "    stage : int\n",
    "        The stage index of the experiment.\n",
    "    theta : np.ndarray of size (n_sample or 1, n_param)\n",
    "        The value of unknown linear model parameters.\n",
    "    d : np.ndarray of size (n_sample or 1, n_design)\n",
    "        The design variable.\n",
    "\n",
    "    Returns\n",
    "    -------\n",
    "    numpy.ndarray of size (n_sample, n_obs)\n",
    "        The output of the linear model.\n",
    "    \"\"\"\n",
    "    return theta ** 3 * d ** 2 + theta * np.exp(-np.abs(0.2 - d))"
   ]
  },
  {
   "cell_type": "code",
   "execution_count": 250,
   "metadata": {
    "ExecuteTime": {
     "end_time": "2021-10-22T01:54:37.158152Z",
     "start_time": "2021-10-22T01:54:37.133994Z"
    }
   },
   "outputs": [],
   "source": [
    "n_param = 1 # Number of parameters.\n",
    "n_design = 1 # Number of design variables.\n",
    "n_obs = 1 # Number of observations.\n",
    "\n",
    "low = 0\n",
    "high = 1\n",
    "prior_rvs = lambda n_sample: np.random.uniform(low=low,\n",
    "                                               high=high,\n",
    "                                               size=(n_sample, n_param))\n",
    "prior_logpdf = lambda theta: uniform_logpdf(theta,\n",
    "                                            low=low,\n",
    "                                            high=high)\n",
    "\n",
    "design_bounds = [(0, 1),] # lower and upper bounds of design variables.\n",
    "\n",
    "# Noise if following N(noise_loc, noise_base_scale + noise_ratio_scale * abs(G))\n",
    "noise_loc = 0\n",
    "noise_base_scale = 0.1\n",
    "noise_ratio_scale = 0\n",
    "noise_info = [(noise_loc, noise_base_scale, noise_ratio_scale),]\n",
    "\n",
    "# Random state could be eith an integer or None.\n",
    "random_state = 2021"
   ]
  },
  {
   "cell_type": "code",
   "execution_count": 251,
   "metadata": {
    "ExecuteTime": {
     "end_time": "2021-10-22T01:54:37.425163Z",
     "start_time": "2021-10-22T01:54:37.404611Z"
    }
   },
   "outputs": [],
   "source": [
    "# Assume a true theta to generate synthetic observations.\n",
    "theta_true = np.array([0.3])"
   ]
  },
  {
   "cell_type": "markdown",
   "metadata": {},
   "source": [
    "## Stage 1"
   ]
  },
  {
   "cell_type": "code",
   "execution_count": 252,
   "metadata": {
    "ExecuteTime": {
     "end_time": "2021-10-22T01:54:37.890823Z",
     "start_time": "2021-10-22T01:54:37.869056Z"
    }
   },
   "outputs": [],
   "source": [
    "oed_4_1 = OED(model_fun=model_4,\n",
    "              n_param=n_param,\n",
    "              n_design=n_design,\n",
    "              n_obs=n_obs,\n",
    "              prior_rvs=prior_rvs,\n",
    "              design_bounds=design_bounds,\n",
    "              noise_info=noise_info,\n",
    "              prior_logpdf=prior_logpdf,\n",
    "              reward_fun=None,\n",
    "              random_state=random_state)"
   ]
  },
  {
   "cell_type": "code",
   "execution_count": 253,
   "metadata": {
    "ExecuteTime": {
     "end_time": "2021-10-22T01:54:39.282833Z",
     "start_time": "2021-10-22T01:54:38.210688Z"
    }
   },
   "outputs": [
    {
     "data": {
      "image/png": "[encoded data removed]",
      "text/plain": [
       "<Figure size 432x288 with 1 Axes>"
      ]
     },
     "metadata": {
      "needs_background": "light"
     },
     "output_type": "display_data"
    }
   ],
   "source": [
    "ds = np.linspace(design_bounds[0][0], design_bounds[0][1], 21)\n",
    "Us = []\n",
    "thetas = prior_rvs(1000)\n",
    "noises = np.random.normal(size=(1000, n_obs))\n",
    "for d in ds:\n",
    "    Us.append(oed_4_1.exp_utility(d, thetas, noises))\n",
    "\n",
    "plt.figure(figsize=(6, 4))\n",
    "plt.plot(ds, Us)\n",
    "plt.xlabel('d', fontsize=20)\n",
    "plt.ylabel('U(d)', fontsize=20)\n",
    "plt.xticks(fontsize=15)\n",
    "plt.yticks(fontsize=15)\n",
    "plt.grid(ls='--')\n",
    "plt.show()"
   ]
  },
  {
   "cell_type": "code",
   "execution_count": 254,
   "metadata": {
    "ExecuteTime": {
     "end_time": "2021-10-22T01:54:42.514009Z",
     "start_time": "2021-10-22T01:54:39.345677Z"
    }
   },
   "outputs": [
    {
     "name": "stdout",
     "output_type": "stream",
     "text": [
      "Optimizing\n",
      "|   iter    |  target   |    d1     |\n",
      "-------------------------------------\n",
      "| \u001b[0m 1       \u001b[0m | \u001b[0m 1.046   \u001b[0m | \u001b[0m 0.606   \u001b[0m |\n",
      "| \u001b[95m 2       \u001b[0m | \u001b[95m 1.094   \u001b[0m | \u001b[95m 0.7334  \u001b[0m |\n",
      "| \u001b[0m 3       \u001b[0m | \u001b[0m 1.023   \u001b[0m | \u001b[0m 0.1389  \u001b[0m |\n",
      "| \u001b[0m 4       \u001b[0m | \u001b[0m 1.043   \u001b[0m | \u001b[0m 0.3127  \u001b[0m |\n",
      "| \u001b[95m 5       \u001b[0m | \u001b[95m 1.248   \u001b[0m | \u001b[95m 0.9972  \u001b[0m |\n",
      "| \u001b[95m 6       \u001b[0m | \u001b[95m 1.25    \u001b[0m | \u001b[95m 1.0     \u001b[0m |\n",
      "| \u001b[0m 7       \u001b[0m | \u001b[0m 1.25    \u001b[0m | \u001b[0m 1.0     \u001b[0m |\n",
      "| \u001b[0m 8       \u001b[0m | \u001b[0m 1.25    \u001b[0m | \u001b[0m 1.0     \u001b[0m |\n",
      "| \u001b[0m 9       \u001b[0m | \u001b[0m 1.25    \u001b[0m | \u001b[0m 1.0     \u001b[0m |\n",
      "| \u001b[0m 10      \u001b[0m | \u001b[0m 1.25    \u001b[0m | \u001b[0m 1.0     \u001b[0m |\n",
      "| \u001b[0m 11      \u001b[0m | \u001b[0m 1.25    \u001b[0m | \u001b[0m 1.0     \u001b[0m |\n",
      "| \u001b[0m 12      \u001b[0m | \u001b[0m 1.25    \u001b[0m | \u001b[0m 1.0     \u001b[0m |\n",
      "| \u001b[0m 13      \u001b[0m | \u001b[0m 1.25    \u001b[0m | \u001b[0m 1.0     \u001b[0m |\n",
      "| \u001b[0m 14      \u001b[0m | \u001b[0m 1.25    \u001b[0m | \u001b[0m 1.0     \u001b[0m |\n",
      "| \u001b[0m 15      \u001b[0m | \u001b[0m 1.25    \u001b[0m | \u001b[0m 1.0     \u001b[0m |\n",
      "| \u001b[0m 16      \u001b[0m | \u001b[0m 1.25    \u001b[0m | \u001b[0m 1.0     \u001b[0m |\n",
      "| \u001b[0m 17      \u001b[0m | \u001b[0m 1.25    \u001b[0m | \u001b[0m 1.0     \u001b[0m |\n",
      "| \u001b[0m 18      \u001b[0m | \u001b[0m 1.25    \u001b[0m | \u001b[0m 1.0     \u001b[0m |\n",
      "| \u001b[0m 19      \u001b[0m | \u001b[0m 1.25    \u001b[0m | \u001b[0m 1.0     \u001b[0m |\n",
      "| \u001b[0m 20      \u001b[0m | \u001b[0m 1.25    \u001b[0m | \u001b[0m 1.0     \u001b[0m |\n",
      "| \u001b[0m 21      \u001b[0m | \u001b[0m 1.25    \u001b[0m | \u001b[0m 1.0     \u001b[0m |\n",
      "| \u001b[0m 22      \u001b[0m | \u001b[0m 1.25    \u001b[0m | \u001b[0m 1.0     \u001b[0m |\n",
      "| \u001b[0m 23      \u001b[0m | \u001b[0m 1.25    \u001b[0m | \u001b[0m 1.0     \u001b[0m |\n",
      "| \u001b[0m 24      \u001b[0m | \u001b[0m 1.25    \u001b[0m | \u001b[0m 1.0     \u001b[0m |\n",
      "| \u001b[0m 25      \u001b[0m | \u001b[0m 1.25    \u001b[0m | \u001b[0m 1.0     \u001b[0m |\n",
      "| \u001b[0m 26      \u001b[0m | \u001b[0m 1.25    \u001b[0m | \u001b[0m 1.0     \u001b[0m |\n",
      "| \u001b[0m 27      \u001b[0m | \u001b[0m 1.25    \u001b[0m | \u001b[0m 1.0     \u001b[0m |\n",
      "| \u001b[0m 28      \u001b[0m | \u001b[0m 1.25    \u001b[0m | \u001b[0m 1.0     \u001b[0m |\n",
      "| \u001b[0m 29      \u001b[0m | \u001b[0m 1.25    \u001b[0m | \u001b[0m 1.0     \u001b[0m |\n",
      "| \u001b[0m 30      \u001b[0m | \u001b[0m 1.25    \u001b[0m | \u001b[0m 1.0     \u001b[0m |\n",
      "| \u001b[0m 31      \u001b[0m | \u001b[0m 1.25    \u001b[0m | \u001b[0m 1.0     \u001b[0m |\n",
      "| \u001b[0m 32      \u001b[0m | \u001b[0m 1.25    \u001b[0m | \u001b[0m 1.0     \u001b[0m |\n",
      "| \u001b[0m 33      \u001b[0m | \u001b[0m 1.25    \u001b[0m | \u001b[0m 0.9999  \u001b[0m |\n",
      "| \u001b[0m 34      \u001b[0m | \u001b[0m 1.25    \u001b[0m | \u001b[0m 0.9999  \u001b[0m |\n",
      "| \u001b[0m 35      \u001b[0m | \u001b[0m 1.25    \u001b[0m | \u001b[0m 0.9998  \u001b[0m |\n",
      "=====================================\n"
     ]
    }
   ],
   "source": [
    "d_opt, U_opt = oed_4_1.oed(n_sample=1000, n_init=5, n_iter=30)"
   ]
  },
  {
   "cell_type": "code",
   "execution_count": 255,
   "metadata": {
    "ExecuteTime": {
     "end_time": "2021-10-22T01:54:42.602091Z",
     "start_time": "2021-10-22T01:54:42.581819Z"
    }
   },
   "outputs": [
    {
     "name": "stdout",
     "output_type": "stream",
     "text": [
      "Optimal design: [1.]\n",
      "Maximum expected utility: 1.2498516411293736\n"
     ]
    }
   ],
   "source": [
    "print(\"Optimal design:\", d_opt)\n",
    "print(\"Maximum expected utility:\", U_opt)"
   ]
  },
  {
   "cell_type": "code",
   "execution_count": 256,
   "metadata": {
    "ExecuteTime": {
     "end_time": "2021-10-22T01:54:43.077816Z",
     "start_time": "2021-10-22T01:54:43.056480Z"
    }
   },
   "outputs": [],
   "source": [
    "# Conduct an expriment under optimal design and get observation.\n",
    "# Here we use clean output of forward model as the true experimental result.\n",
    "y = model_4(theta_true.reshape(1, -1),\n",
    "            d_opt.reshape(1, -1)).flatten()"
   ]
  },
  {
   "cell_type": "code",
   "execution_count": 266,
   "metadata": {
    "ExecuteTime": {
     "end_time": "2021-10-22T01:57:12.556690Z",
     "start_time": "2021-10-22T01:57:12.116230Z"
    }
   },
   "outputs": [
    {
     "name": "stderr",
     "output_type": "stream",
     "text": [
      "/Users/wgshen/Google Drive/PhD/github/OED/oed/utils.py:18: RuntimeWarning: divide by zero encountered in log\n",
      "  return np.log(uniform_pdf(x, low, high))\n"
     ]
    },
    {
     "data": {
      "image/png": "[encoded data removed]",
      "text/plain": [
       "<Figure size 432x288 with 1 Axes>"
      ]
     },
     "metadata": {
      "needs_background": "light"
     },
     "output_type": "display_data"
    }
   ],
   "source": [
    "# Generate posterior samples and draw the histogram\n",
    "theta_post = oed_4_1.post_rvs(1000, d_opt, y)\n",
    "thetas = np.linspace(0, 1, 101)\n",
    "posts = oed_4_1.post_pdf(thetas.reshape(-1, 1), d_opt, y)\n",
    "posts /= posts.sum() * (thetas[1] - thetas[0])\n",
    "\n",
    "plt.figure(figsize=(6, 4))\n",
    "plt.hist(theta_post, density=True)\n",
    "plt.plot(thetas, posts)\n",
    "plt.xlabel('$\\\\theta$', fontsize=20)\n",
    "plt.ylabel('posterior', fontsize=20)\n",
    "plt.xticks(fontsize=15)\n",
    "plt.yticks(fontsize=15)\n",
    "plt.grid(ls='--')\n",
    "plt.xlim(0, 1)\n",
    "plt.show()"
   ]
  },
  {
   "cell_type": "code",
   "execution_count": 268,
   "metadata": {
    "ExecuteTime": {
     "end_time": "2021-10-22T01:58:38.648358Z",
     "start_time": "2021-10-22T01:58:38.610379Z"
    }
   },
   "outputs": [],
   "source": [
    "# Update new prior_rvs and prior_logpdf\n",
    "prior_rvs = lambda n_sample: oed_4_1.post_rvs(n_sample, d_opt, y)\n",
    "prior_logpdf = lambda theta: oed_4_1.post_logpdf(theta, d_opt, y)"
   ]
  },
  {
   "cell_type": "markdown",
   "metadata": {},
   "source": [
    "## Stage 2"
   ]
  },
  {
   "cell_type": "code",
   "execution_count": 269,
   "metadata": {
    "ExecuteTime": {
     "end_time": "2021-10-22T01:58:55.593635Z",
     "start_time": "2021-10-22T01:58:55.571107Z"
    }
   },
   "outputs": [],
   "source": [
    "oed_4_2 = OED(model_fun=model_4,\n",
    "              n_param=n_param,\n",
    "              n_design=n_design,\n",
    "              n_obs=n_obs,\n",
    "              prior_rvs=prior_rvs,\n",
    "              design_bounds=design_bounds,\n",
    "              noise_info=noise_info,\n",
    "              prior_logpdf=prior_logpdf,\n",
    "              reward_fun=None,\n",
    "              random_state=random_state)"
   ]
  },
  {
   "cell_type": "code",
   "execution_count": 270,
   "metadata": {
    "ExecuteTime": {
     "end_time": "2021-10-22T01:59:07.743483Z",
     "start_time": "2021-10-22T01:59:06.352580Z"
    }
   },
   "outputs": [
    {
     "name": "stderr",
     "output_type": "stream",
     "text": [
      "/Users/wgshen/Google Drive/PhD/github/OED/oed/utils.py:18: RuntimeWarning: divide by zero encountered in log\n",
      "  return np.log(uniform_pdf(x, low, high))\n"
     ]
    },
    {
     "data": {
      "image/png": "[encoded data removed]",
      "text/plain": [
       "<Figure size 432x288 with 1 Axes>"
      ]
     },
     "metadata": {
      "needs_background": "light"
     },
     "output_type": "display_data"
    }
   ],
   "source": [
    "ds = np.linspace(design_bounds[0][0], design_bounds[0][1], 21)\n",
    "Us = []\n",
    "thetas = prior_rvs(1000)\n",
    "noises = np.random.normal(size=(1000, n_obs))\n",
    "for d in ds:\n",
    "    Us.append(oed_4_2.exp_utility(d, thetas, noises))\n",
    "\n",
    "plt.figure(figsize=(6, 4))\n",
    "plt.plot(ds, Us)\n",
    "plt.xlabel('d', fontsize=20)\n",
    "plt.ylabel('U(d)', fontsize=20)\n",
    "plt.xticks(fontsize=15)\n",
    "plt.yticks(fontsize=15)\n",
    "plt.grid(ls='--')\n",
    "plt.show()"
   ]
  },
  {
   "cell_type": "code",
   "execution_count": 271,
   "metadata": {
    "ExecuteTime": {
     "end_time": "2021-10-22T01:59:20.181531Z",
     "start_time": "2021-10-22T01:59:12.263255Z"
    }
   },
   "outputs": [
    {
     "name": "stdout",
     "output_type": "stream",
     "text": [
      "Optimizing\n"
     ]
    },
    {
     "name": "stderr",
     "output_type": "stream",
     "text": [
      "/Users/wgshen/Google Drive/PhD/github/OED/oed/utils.py:18: RuntimeWarning: divide by zero encountered in log\n",
      "  return np.log(uniform_pdf(x, low, high))\n"
     ]
    },
    {
     "name": "stdout",
     "output_type": "stream",
     "text": [
      "|   iter    |  target   |    d1     |\n",
      "-------------------------------------\n",
      "| \u001b[0m 1       \u001b[0m | \u001b[0m 0.3095  \u001b[0m | \u001b[0m 0.606   \u001b[0m |\n",
      "| \u001b[0m 2       \u001b[0m | \u001b[0m 0.2864  \u001b[0m | \u001b[0m 0.7334  \u001b[0m |\n",
      "| \u001b[95m 3       \u001b[0m | \u001b[95m 0.4261  \u001b[0m | \u001b[95m 0.1389  \u001b[0m |\n",
      "| \u001b[0m 4       \u001b[0m | \u001b[0m 0.4086  \u001b[0m | \u001b[0m 0.3127  \u001b[0m |\n",
      "| \u001b[0m 5       \u001b[0m | \u001b[0m 0.2725  \u001b[0m | \u001b[0m 0.9972  \u001b[0m |\n",
      "| \u001b[0m 6       \u001b[0m | \u001b[0m 0.3492  \u001b[0m | \u001b[0m 0.0     \u001b[0m |\n",
      "| \u001b[95m 7       \u001b[0m | \u001b[95m 0.4615  \u001b[0m | \u001b[95m 0.2055  \u001b[0m |\n",
      "| \u001b[0m 8       \u001b[0m | \u001b[0m 0.4468  \u001b[0m | \u001b[0m 0.2334  \u001b[0m |\n",
      "| \u001b[0m 9       \u001b[0m | \u001b[0m 0.3531  \u001b[0m | \u001b[0m 0.4524  \u001b[0m |\n",
      "| \u001b[0m 10      \u001b[0m | \u001b[0m 0.457   \u001b[0m | \u001b[0m 0.1885  \u001b[0m |\n",
      "| \u001b[0m 11      \u001b[0m | \u001b[0m 0.2732  \u001b[0m | \u001b[0m 0.8824  \u001b[0m |\n",
      "| \u001b[95m 12      \u001b[0m | \u001b[95m 0.4632  \u001b[0m | \u001b[95m 0.2022  \u001b[0m |\n",
      "| \u001b[0m 13      \u001b[0m | \u001b[0m 0.462   \u001b[0m | \u001b[0m 0.2045  \u001b[0m |\n",
      "| \u001b[0m 14      \u001b[0m | \u001b[0m 0.4621  \u001b[0m | \u001b[0m 0.2044  \u001b[0m |\n",
      "| \u001b[0m 15      \u001b[0m | \u001b[0m 0.4621  \u001b[0m | \u001b[0m 0.2043  \u001b[0m |\n",
      "| \u001b[0m 16      \u001b[0m | \u001b[0m 0.462   \u001b[0m | \u001b[0m 0.2045  \u001b[0m |\n",
      "| \u001b[0m 17      \u001b[0m | \u001b[0m 0.4622  \u001b[0m | \u001b[0m 0.2041  \u001b[0m |\n",
      "| \u001b[0m 18      \u001b[0m | \u001b[0m 0.4621  \u001b[0m | \u001b[0m 0.2042  \u001b[0m |\n",
      "| \u001b[0m 19      \u001b[0m | \u001b[0m 0.4623  \u001b[0m | \u001b[0m 0.2039  \u001b[0m |\n",
      "| \u001b[0m 20      \u001b[0m | \u001b[0m 0.4622  \u001b[0m | \u001b[0m 0.2042  \u001b[0m |\n",
      "| \u001b[0m 21      \u001b[0m | \u001b[0m 0.4624  \u001b[0m | \u001b[0m 0.2038  \u001b[0m |\n",
      "| \u001b[0m 22      \u001b[0m | \u001b[0m 0.4621  \u001b[0m | \u001b[0m 0.2042  \u001b[0m |\n",
      "| \u001b[0m 23      \u001b[0m | \u001b[0m 0.4624  \u001b[0m | \u001b[0m 0.2037  \u001b[0m |\n",
      "| \u001b[0m 24      \u001b[0m | \u001b[0m 0.4626  \u001b[0m | \u001b[0m 0.2034  \u001b[0m |\n",
      "| \u001b[0m 25      \u001b[0m | \u001b[0m 0.4616  \u001b[0m | \u001b[0m 0.2052  \u001b[0m |\n",
      "| \u001b[0m 26      \u001b[0m | \u001b[0m 0.4631  \u001b[0m | \u001b[0m 0.2024  \u001b[0m |\n",
      "| \u001b[95m 27      \u001b[0m | \u001b[95m 0.4633  \u001b[0m | \u001b[95m 0.202   \u001b[0m |\n",
      "| \u001b[95m 28      \u001b[0m | \u001b[95m 0.4636  \u001b[0m | \u001b[95m 0.2016  \u001b[0m |\n",
      "| \u001b[95m 29      \u001b[0m | \u001b[95m 0.4641  \u001b[0m | \u001b[95m 0.2006  \u001b[0m |\n",
      "| \u001b[95m 30      \u001b[0m | \u001b[95m 0.4643  \u001b[0m | \u001b[95m 0.1999  \u001b[0m |\n",
      "| \u001b[0m 31      \u001b[0m | \u001b[0m 0.4642  \u001b[0m | \u001b[0m 0.1997  \u001b[0m |\n",
      "| \u001b[0m 32      \u001b[0m | \u001b[0m 0.464   \u001b[0m | \u001b[0m 0.1993  \u001b[0m |\n",
      "| \u001b[0m 33      \u001b[0m | \u001b[0m 0.4636  \u001b[0m | \u001b[0m 0.1988  \u001b[0m |\n",
      "| \u001b[0m 34      \u001b[0m | \u001b[0m 0.4636  \u001b[0m | \u001b[0m 0.1987  \u001b[0m |\n",
      "| \u001b[0m 35      \u001b[0m | \u001b[0m 0.3826  \u001b[0m | \u001b[0m 0.06374 \u001b[0m |\n",
      "=====================================\n"
     ]
    }
   ],
   "source": [
    "d_opt, U_opt = oed_4_2.oed(n_sample=1000, n_init=5, n_iter=30)"
   ]
  },
  {
   "cell_type": "code",
   "execution_count": 272,
   "metadata": {
    "ExecuteTime": {
     "end_time": "2021-10-22T01:59:20.264548Z",
     "start_time": "2021-10-22T01:59:20.245231Z"
    }
   },
   "outputs": [
    {
     "name": "stdout",
     "output_type": "stream",
     "text": [
      "Optimal design: [0.19986129]\n",
      "Maximum expected utility: 0.4643205387719694\n"
     ]
    }
   ],
   "source": [
    "print(\"Optimal design:\", d_opt)\n",
    "print(\"Maximum expected utility:\", U_opt)"
   ]
  },
  {
   "cell_type": "code",
   "execution_count": 273,
   "metadata": {
    "ExecuteTime": {
     "end_time": "2021-10-22T01:59:24.415646Z",
     "start_time": "2021-10-22T01:59:24.393732Z"
    }
   },
   "outputs": [],
   "source": [
    "# Conduct an expriment under optimal design and get observation.\n",
    "# Here we use clean output of forward model as the true experimental result.\n",
    "y = model_4(theta_true.reshape(1, -1),\n",
    "            d_opt.reshape(1, -1)).flatten()"
   ]
  },
  {
   "cell_type": "code",
   "execution_count": 274,
   "metadata": {
    "ExecuteTime": {
     "end_time": "2021-10-22T01:59:36.448817Z",
     "start_time": "2021-10-22T01:59:35.972346Z"
    }
   },
   "outputs": [
    {
     "name": "stderr",
     "output_type": "stream",
     "text": [
      "/Users/wgshen/Google Drive/PhD/github/OED/oed/utils.py:18: RuntimeWarning: divide by zero encountered in log\n",
      "  return np.log(uniform_pdf(x, low, high))\n"
     ]
    },
    {
     "data": {
      "image/png": "[encoded data removed]",
      "text/plain": [
       "<Figure size 432x288 with 1 Axes>"
      ]
     },
     "metadata": {
      "needs_background": "light"
     },
     "output_type": "display_data"
    }
   ],
   "source": [
    "# Generate posterior samples and draw the histogram\n",
    "theta_post = oed_4_2.post_rvs(1000, d_opt, y)\n",
    "thetas = np.linspace(0, 1, 101)\n",
    "posts = oed_4_2.post_pdf(thetas.reshape(-1, 1), d_opt, y)\n",
    "posts /= posts.sum() * (thetas[1] - thetas[0])\n",
    "\n",
    "plt.figure(figsize=(6, 4))\n",
    "plt.hist(theta_post, density=True)\n",
    "plt.plot(thetas, posts)\n",
    "plt.xlabel('$\\\\theta$', fontsize=20)\n",
    "plt.ylabel('posterior', fontsize=20)\n",
    "plt.xticks(fontsize=15)\n",
    "plt.yticks(fontsize=15)\n",
    "plt.grid(ls='--')\n",
    "plt.xlim(0, 1)\n",
    "plt.show()"
   ]
  },
  {
   "cell_type": "code",
   "execution_count": 275,
   "metadata": {
    "ExecuteTime": {
     "end_time": "2021-10-22T01:59:42.405537Z",
     "start_time": "2021-10-22T01:59:42.381966Z"
    }
   },
   "outputs": [],
   "source": [
    "# Update new prior_rvs and prior_logpdf\n",
    "prior_rvs = lambda n_sample: oed_4_2.post_rvs(n_sample, d_opt, y)\n",
    "prior_logpdf = lambda theta: oed_4_2.post_logpdf(theta, d_opt, y)"
   ]
  },
  {
   "cell_type": "markdown",
   "metadata": {},
   "source": [
    "## Stage 3"
   ]
  },
  {
   "cell_type": "code",
   "execution_count": 276,
   "metadata": {
    "ExecuteTime": {
     "end_time": "2021-10-22T01:59:58.267822Z",
     "start_time": "2021-10-22T01:59:58.246459Z"
    }
   },
   "outputs": [],
   "source": [
    "oed_4_3 = OED(model_fun=model_4,\n",
    "              n_param=n_param,\n",
    "              n_design=n_design,\n",
    "              n_obs=n_obs,\n",
    "              prior_rvs=prior_rvs,\n",
    "              design_bounds=design_bounds,\n",
    "              noise_info=noise_info,\n",
    "              prior_logpdf=prior_logpdf,\n",
    "              reward_fun=None,\n",
    "              random_state=random_state)"
   ]
  },
  {
   "cell_type": "code",
   "execution_count": 277,
   "metadata": {
    "ExecuteTime": {
     "end_time": "2021-10-22T02:00:05.381985Z",
     "start_time": "2021-10-22T02:00:03.921338Z"
    }
   },
   "outputs": [
    {
     "name": "stderr",
     "output_type": "stream",
     "text": [
      "/Users/wgshen/Google Drive/PhD/github/OED/oed/utils.py:18: RuntimeWarning: divide by zero encountered in log\n",
      "  return np.log(uniform_pdf(x, low, high))\n"
     ]
    },
    {
     "data": {
      "image/png": "[encoded data removed]",
      "text/plain": [
       "<Figure size 432x288 with 1 Axes>"
      ]
     },
     "metadata": {
      "needs_background": "light"
     },
     "output_type": "display_data"
    }
   ],
   "source": [
    "ds = np.linspace(design_bounds[0][0], design_bounds[0][1], 21)\n",
    "Us = []\n",
    "thetas = prior_rvs(1000)\n",
    "noises = np.random.normal(size=(1000, n_obs))\n",
    "for d in ds:\n",
    "    Us.append(oed_4_3.exp_utility(d, thetas, noises))\n",
    "\n",
    "plt.figure(figsize=(6, 4))\n",
    "plt.plot(ds, Us)\n",
    "plt.xlabel('d', fontsize=20)\n",
    "plt.ylabel('U(d)', fontsize=20)\n",
    "plt.xticks(fontsize=15)\n",
    "plt.yticks(fontsize=15)\n",
    "plt.grid(ls='--')\n",
    "plt.show()"
   ]
  },
  {
   "cell_type": "code",
   "execution_count": 278,
   "metadata": {
    "ExecuteTime": {
     "end_time": "2021-10-22T02:00:38.100001Z",
     "start_time": "2021-10-22T02:00:29.719224Z"
    }
   },
   "outputs": [
    {
     "name": "stdout",
     "output_type": "stream",
     "text": [
      "Optimizing\n"
     ]
    },
    {
     "name": "stderr",
     "output_type": "stream",
     "text": [
      "/Users/wgshen/Google Drive/PhD/github/OED/oed/utils.py:18: RuntimeWarning: divide by zero encountered in log\n",
      "  return np.log(uniform_pdf(x, low, high))\n"
     ]
    },
    {
     "name": "stdout",
     "output_type": "stream",
     "text": [
      "|   iter    |  target   |    d1     |\n",
      "-------------------------------------\n",
      "| \u001b[0m 1       \u001b[0m | \u001b[0m 0.1306  \u001b[0m | \u001b[0m 0.606   \u001b[0m |\n",
      "| \u001b[0m 2       \u001b[0m | \u001b[0m 0.122   \u001b[0m | \u001b[0m 0.7334  \u001b[0m |\n",
      "| \u001b[95m 3       \u001b[0m | \u001b[95m 0.1842  \u001b[0m | \u001b[95m 0.1389  \u001b[0m |\n",
      "| \u001b[0m 4       \u001b[0m | \u001b[0m 0.1763  \u001b[0m | \u001b[0m 0.3127  \u001b[0m |\n",
      "| \u001b[0m 5       \u001b[0m | \u001b[0m 0.1217  \u001b[0m | \u001b[0m 0.9972  \u001b[0m |\n",
      "| \u001b[0m 6       \u001b[0m | \u001b[0m 0.1443  \u001b[0m | \u001b[0m 0.0     \u001b[0m |\n",
      "| \u001b[95m 7       \u001b[0m | \u001b[95m 0.2041  \u001b[0m | \u001b[95m 0.2046  \u001b[0m |\n",
      "| \u001b[0m 8       \u001b[0m | \u001b[0m 0.1963  \u001b[0m | \u001b[0m 0.2325  \u001b[0m |\n",
      "| \u001b[0m 9       \u001b[0m | \u001b[0m 0.1493  \u001b[0m | \u001b[0m 0.4538  \u001b[0m |\n",
      "| \u001b[0m 10      \u001b[0m | \u001b[0m 0.1191  \u001b[0m | \u001b[0m 0.8876  \u001b[0m |\n",
      "| \u001b[0m 11      \u001b[0m | \u001b[0m 0.2027  \u001b[0m | \u001b[0m 0.1926  \u001b[0m |\n",
      "| \u001b[0m 12      \u001b[0m | \u001b[0m 0.2039  \u001b[0m | \u001b[0m 0.1958  \u001b[0m |\n",
      "| \u001b[0m 13      \u001b[0m | \u001b[0m 0.204   \u001b[0m | \u001b[0m 0.1961  \u001b[0m |\n",
      "| \u001b[0m 14      \u001b[0m | \u001b[0m 0.2038  \u001b[0m | \u001b[0m 0.1956  \u001b[0m |\n",
      "| \u001b[95m 15      \u001b[0m | \u001b[95m 0.2041  \u001b[0m | \u001b[95m 0.1964  \u001b[0m |\n",
      "| \u001b[0m 16      \u001b[0m | \u001b[0m 0.204   \u001b[0m | \u001b[0m 0.196   \u001b[0m |\n",
      "| \u001b[95m 17      \u001b[0m | \u001b[95m 0.2043  \u001b[0m | \u001b[95m 0.1968  \u001b[0m |\n",
      "| \u001b[0m 18      \u001b[0m | \u001b[0m 0.2041  \u001b[0m | \u001b[0m 0.1963  \u001b[0m |\n",
      "| \u001b[0m 19      \u001b[0m | \u001b[0m 0.204   \u001b[0m | \u001b[0m 0.1961  \u001b[0m |\n",
      "| \u001b[95m 20      \u001b[0m | \u001b[95m 0.2045  \u001b[0m | \u001b[95m 0.1973  \u001b[0m |\n",
      "| \u001b[0m 21      \u001b[0m | \u001b[0m 0.2042  \u001b[0m | \u001b[0m 0.1967  \u001b[0m |\n",
      "| \u001b[0m 22      \u001b[0m | \u001b[0m 0.2034  \u001b[0m | \u001b[0m 0.1945  \u001b[0m |\n",
      "| \u001b[95m 23      \u001b[0m | \u001b[95m 0.2053  \u001b[0m | \u001b[95m 0.2006  \u001b[0m |\n",
      "| \u001b[0m 24      \u001b[0m | \u001b[0m 0.205   \u001b[0m | \u001b[0m 0.2015  \u001b[0m |\n",
      "| \u001b[0m 25      \u001b[0m | \u001b[0m 0.2047  \u001b[0m | \u001b[0m 0.2025  \u001b[0m |\n",
      "| \u001b[0m 26      \u001b[0m | \u001b[0m 0.2047  \u001b[0m | \u001b[0m 0.2026  \u001b[0m |\n",
      "| \u001b[0m 27      \u001b[0m | \u001b[0m 0.2047  \u001b[0m | \u001b[0m 0.2027  \u001b[0m |\n",
      "| \u001b[0m 28      \u001b[0m | \u001b[0m 0.2048  \u001b[0m | \u001b[0m 0.2023  \u001b[0m |\n",
      "| \u001b[0m 29      \u001b[0m | \u001b[0m 0.2045  \u001b[0m | \u001b[0m 0.2034  \u001b[0m |\n",
      "| \u001b[0m 30      \u001b[0m | \u001b[0m 0.2047  \u001b[0m | \u001b[0m 0.2026  \u001b[0m |\n",
      "| \u001b[0m 31      \u001b[0m | \u001b[0m 0.2046  \u001b[0m | \u001b[0m 0.203   \u001b[0m |\n",
      "| \u001b[0m 32      \u001b[0m | \u001b[0m 0.2044  \u001b[0m | \u001b[0m 0.2037  \u001b[0m |\n",
      "| \u001b[0m 33      \u001b[0m | \u001b[0m 0.2045  \u001b[0m | \u001b[0m 0.2032  \u001b[0m |\n",
      "| \u001b[0m 34      \u001b[0m | \u001b[0m 0.2046  \u001b[0m | \u001b[0m 0.2031  \u001b[0m |\n",
      "| \u001b[0m 35      \u001b[0m | \u001b[0m 0.2044  \u001b[0m | \u001b[0m 0.2036  \u001b[0m |\n",
      "=====================================\n"
     ]
    }
   ],
   "source": [
    "d_opt, U_opt = oed_4_3.oed(n_sample=1000, n_init=5, n_iter=30)"
   ]
  },
  {
   "cell_type": "code",
   "execution_count": 279,
   "metadata": {
    "ExecuteTime": {
     "end_time": "2021-10-22T02:00:38.180921Z",
     "start_time": "2021-10-22T02:00:38.162703Z"
    }
   },
   "outputs": [
    {
     "name": "stdout",
     "output_type": "stream",
     "text": [
      "Optimal design: [0.20056345]\n",
      "Maximum expected utility: 0.20528774421610216\n"
     ]
    }
   ],
   "source": [
    "print(\"Optimal design:\", d_opt)\n",
    "print(\"Maximum expected utility:\", U_opt)"
   ]
  },
  {
   "cell_type": "code",
   "execution_count": 280,
   "metadata": {
    "ExecuteTime": {
     "end_time": "2021-10-22T02:00:38.262128Z",
     "start_time": "2021-10-22T02:00:38.242173Z"
    }
   },
   "outputs": [],
   "source": [
    "# Conduct an expriment under optimal design and get observation.\n",
    "# Here we use clean output of forward model as the true experimental result.\n",
    "y = model_4(theta_true.reshape(1, -1),\n",
    "            d_opt.reshape(1, -1)).flatten()"
   ]
  },
  {
   "cell_type": "code",
   "execution_count": 281,
   "metadata": {
    "ExecuteTime": {
     "end_time": "2021-10-22T02:00:45.834373Z",
     "start_time": "2021-10-22T02:00:45.263067Z"
    }
   },
   "outputs": [
    {
     "name": "stderr",
     "output_type": "stream",
     "text": [
      "/Users/wgshen/Google Drive/PhD/github/OED/oed/utils.py:18: RuntimeWarning: divide by zero encountered in log\n",
      "  return np.log(uniform_pdf(x, low, high))\n"
     ]
    },
    {
     "data": {
      "image/png": "[encoded data removed]",
      "text/plain": [
       "<Figure size 432x288 with 1 Axes>"
      ]
     },
     "metadata": {
      "needs_background": "light"
     },
     "output_type": "display_data"
    }
   ],
   "source": [
    "# Generate posterior samples and draw the histogram\n",
    "theta_post = oed_4_3.post_rvs(1000, d_opt, y)\n",
    "thetas = np.linspace(0, 1, 101)\n",
    "posts = oed_4_3.post_pdf(thetas.reshape(-1, 1), d_opt, y)\n",
    "posts /= posts.sum() * (thetas[1] - thetas[0])\n",
    "\n",
    "plt.figure(figsize=(6, 4))\n",
    "plt.hist(theta_post, density=True)\n",
    "plt.plot(thetas, posts)\n",
    "plt.xlabel('$\\\\theta$', fontsize=20)\n",
    "plt.ylabel('posterior', fontsize=20)\n",
    "plt.xticks(fontsize=15)\n",
    "plt.yticks(fontsize=15)\n",
    "plt.grid(ls='--')\n",
    "plt.xlim(0, 1)\n",
    "plt.show()"
   ]
  },
  {
   "cell_type": "code",
   "execution_count": 282,
   "metadata": {
    "ExecuteTime": {
     "end_time": "2021-10-22T02:00:51.176182Z",
     "start_time": "2021-10-22T02:00:51.153547Z"
    }
   },
   "outputs": [],
   "source": [
    "# Update new prior_rvs and prior_logpdf\n",
    "prior_rvs = lambda n_sample: oed_4_3.post_rvs(n_sample, d_opt, y)\n",
    "prior_logpdf = lambda theta: oed_4_3.post_logpdf(theta, d_opt, y)"
   ]
  },
  {
   "cell_type": "markdown",
   "metadata": {},
   "source": [
    "## Stage 4, with a reward on design and reduced noise scale"
   ]
  },
  {
   "cell_type": "code",
   "execution_count": 285,
   "metadata": {
    "ExecuteTime": {
     "end_time": "2021-10-22T02:02:50.950626Z",
     "start_time": "2021-10-22T02:02:50.927230Z"
    }
   },
   "outputs": [],
   "source": [
    "def reward_fun(d, y):\n",
    "    \"\"\"\n",
    "    Non-KL-divergence based reward function.\n",
    "    \n",
    "    Parameters\n",
    "    ----------\n",
    "    d : np.ndarray of size (n_design)\n",
    "        The design variable.\n",
    "    y : np.ndarray of size (n_obs)\n",
    "        The observation.\n",
    "\n",
    "    Returns\n",
    "    -------\n",
    "    A float which is the reward.\n",
    "    \"\"\"\n",
    "    return np.abs(d[0])\n",
    "\n",
    "noise_loc = 0\n",
    "noise_base_scale = 0.01\n",
    "noise_ratio_scale = 0\n",
    "noise_info = [(noise_loc, noise_base_scale, noise_ratio_scale),]\n",
    "\n",
    "oed_4_4 = OED(model_fun=model_4,\n",
    "              n_param=n_param,\n",
    "              n_design=n_design,\n",
    "              n_obs=n_obs,\n",
    "              prior_rvs=prior_rvs,\n",
    "              design_bounds=design_bounds,\n",
    "              noise_info=noise_info,\n",
    "              prior_logpdf=prior_logpdf,\n",
    "              reward_fun=reward_fun,\n",
    "              random_state=random_state)"
   ]
  },
  {
   "cell_type": "code",
   "execution_count": 287,
   "metadata": {
    "ExecuteTime": {
     "end_time": "2021-10-22T02:03:38.039954Z",
     "start_time": "2021-10-22T02:03:36.573116Z"
    }
   },
   "outputs": [
    {
     "data": {
      "image/png": "[encoded data removed]",
      "text/plain": [
       "<Figure size 432x288 with 1 Axes>"
      ]
     },
     "metadata": {
      "needs_background": "light"
     },
     "output_type": "display_data"
    }
   ],
   "source": [
    "ds = np.linspace(design_bounds[0][0], design_bounds[0][1], 21)\n",
    "Us = []\n",
    "thetas = prior_rvs(1000)\n",
    "noises = np.random.normal(size=(1000, n_obs))\n",
    "for d in ds:\n",
    "    Us.append(oed_4_4.exp_utility(np.array([d]), thetas, noises))\n",
    "\n",
    "plt.figure(figsize=(6, 4))\n",
    "plt.plot(ds, Us)\n",
    "plt.xlabel('d', fontsize=20)\n",
    "plt.ylabel('U(d)', fontsize=20)\n",
    "plt.xticks(fontsize=15)\n",
    "plt.yticks(fontsize=15)\n",
    "plt.grid(ls='--')\n",
    "plt.show()"
   ]
  },
  {
   "cell_type": "code",
   "execution_count": 288,
   "metadata": {
    "ExecuteTime": {
     "end_time": "2021-10-22T02:03:48.693855Z",
     "start_time": "2021-10-22T02:03:42.948140Z"
    }
   },
   "outputs": [
    {
     "name": "stdout",
     "output_type": "stream",
     "text": [
      "Optimizing\n"
     ]
    },
    {
     "name": "stderr",
     "output_type": "stream",
     "text": [
      "/Users/wgshen/Google Drive/PhD/github/OED/oed/utils.py:18: RuntimeWarning: divide by zero encountered in log\n",
      "  return np.log(uniform_pdf(x, low, high))\n"
     ]
    },
    {
     "name": "stdout",
     "output_type": "stream",
     "text": [
      "|   iter    |  target   |    d1     |\n",
      "-------------------------------------\n",
      "| \u001b[0m 1       \u001b[0m | \u001b[0m 2.112   \u001b[0m | \u001b[0m 0.606   \u001b[0m |\n",
      "| \u001b[95m 2       \u001b[0m | \u001b[95m 2.199   \u001b[0m | \u001b[95m 0.7334  \u001b[0m |\n",
      "| \u001b[0m 3       \u001b[0m | \u001b[0m 1.839   \u001b[0m | \u001b[0m 0.1389  \u001b[0m |\n",
      "| \u001b[0m 4       \u001b[0m | \u001b[0m 1.987   \u001b[0m | \u001b[0m 0.3127  \u001b[0m |\n",
      "| \u001b[95m 5       \u001b[0m | \u001b[95m 2.45    \u001b[0m | \u001b[95m 0.9972  \u001b[0m |\n",
      "| \u001b[95m 6       \u001b[0m | \u001b[95m 2.453   \u001b[0m | \u001b[95m 1.0     \u001b[0m |\n",
      "| \u001b[0m 7       \u001b[0m | \u001b[0m 2.453   \u001b[0m | \u001b[0m 1.0     \u001b[0m |\n",
      "| \u001b[0m 8       \u001b[0m | \u001b[0m 2.453   \u001b[0m | \u001b[0m 1.0     \u001b[0m |\n",
      "| \u001b[0m 9       \u001b[0m | \u001b[0m 2.453   \u001b[0m | \u001b[0m 1.0     \u001b[0m |\n",
      "| \u001b[0m 10      \u001b[0m | \u001b[0m 2.453   \u001b[0m | \u001b[0m 1.0     \u001b[0m |\n",
      "| \u001b[0m 11      \u001b[0m | \u001b[0m 2.453   \u001b[0m | \u001b[0m 1.0     \u001b[0m |\n",
      "| \u001b[0m 12      \u001b[0m | \u001b[0m 2.453   \u001b[0m | \u001b[0m 1.0     \u001b[0m |\n",
      "| \u001b[0m 13      \u001b[0m | \u001b[0m 2.453   \u001b[0m | \u001b[0m 1.0     \u001b[0m |\n",
      "| \u001b[0m 14      \u001b[0m | \u001b[0m 2.453   \u001b[0m | \u001b[0m 1.0     \u001b[0m |\n",
      "| \u001b[0m 15      \u001b[0m | \u001b[0m 2.453   \u001b[0m | \u001b[0m 1.0     \u001b[0m |\n",
      "| \u001b[0m 16      \u001b[0m | \u001b[0m 2.453   \u001b[0m | \u001b[0m 1.0     \u001b[0m |\n",
      "| \u001b[0m 17      \u001b[0m | \u001b[0m 2.453   \u001b[0m | \u001b[0m 1.0     \u001b[0m |\n",
      "| \u001b[0m 18      \u001b[0m | \u001b[0m 2.453   \u001b[0m | \u001b[0m 1.0     \u001b[0m |\n",
      "| \u001b[0m 19      \u001b[0m | \u001b[0m 2.453   \u001b[0m | \u001b[0m 1.0     \u001b[0m |\n",
      "| \u001b[0m 20      \u001b[0m | \u001b[0m 2.453   \u001b[0m | \u001b[0m 1.0     \u001b[0m |\n",
      "| \u001b[0m 21      \u001b[0m | \u001b[0m 2.453   \u001b[0m | \u001b[0m 1.0     \u001b[0m |\n",
      "| \u001b[0m 22      \u001b[0m | \u001b[0m 2.453   \u001b[0m | \u001b[0m 1.0     \u001b[0m |\n",
      "| \u001b[0m 23      \u001b[0m | \u001b[0m 2.453   \u001b[0m | \u001b[0m 1.0     \u001b[0m |\n",
      "| \u001b[0m 24      \u001b[0m | \u001b[0m 2.453   \u001b[0m | \u001b[0m 1.0     \u001b[0m |\n",
      "| \u001b[0m 25      \u001b[0m | \u001b[0m 2.453   \u001b[0m | \u001b[0m 1.0     \u001b[0m |\n",
      "| \u001b[0m 26      \u001b[0m | \u001b[0m 2.453   \u001b[0m | \u001b[0m 1.0     \u001b[0m |\n",
      "| \u001b[0m 27      \u001b[0m | \u001b[0m 2.453   \u001b[0m | \u001b[0m 1.0     \u001b[0m |\n",
      "| \u001b[0m 28      \u001b[0m | \u001b[0m 2.453   \u001b[0m | \u001b[0m 1.0     \u001b[0m |\n",
      "| \u001b[0m 29      \u001b[0m | \u001b[0m 2.453   \u001b[0m | \u001b[0m 1.0     \u001b[0m |\n",
      "| \u001b[0m 30      \u001b[0m | \u001b[0m 2.453   \u001b[0m | \u001b[0m 1.0     \u001b[0m |\n",
      "| \u001b[0m 31      \u001b[0m | \u001b[0m 2.453   \u001b[0m | \u001b[0m 1.0     \u001b[0m |\n",
      "| \u001b[0m 32      \u001b[0m | \u001b[0m 2.453   \u001b[0m | \u001b[0m 1.0     \u001b[0m |\n",
      "| \u001b[0m 33      \u001b[0m | \u001b[0m 2.453   \u001b[0m | \u001b[0m 1.0     \u001b[0m |\n",
      "| \u001b[0m 34      \u001b[0m | \u001b[0m 2.453   \u001b[0m | \u001b[0m 1.0     \u001b[0m |\n",
      "| \u001b[0m 35      \u001b[0m | \u001b[0m 2.453   \u001b[0m | \u001b[0m 1.0     \u001b[0m |\n",
      "=====================================\n"
     ]
    }
   ],
   "source": [
    "d_opt, U_opt = oed_4_4.oed(n_sample=1000, n_init=5, n_iter=30)"
   ]
  },
  {
   "cell_type": "code",
   "execution_count": 289,
   "metadata": {
    "ExecuteTime": {
     "end_time": "2021-10-22T02:03:48.770661Z",
     "start_time": "2021-10-22T02:03:48.753692Z"
    }
   },
   "outputs": [
    {
     "name": "stdout",
     "output_type": "stream",
     "text": [
      "Optimal design: [1.]\n",
      "Maximum expected utility: 2.452891825701876\n"
     ]
    }
   ],
   "source": [
    "print(\"Optimal design:\", d_opt)\n",
    "print(\"Maximum expected utility:\", U_opt)"
   ]
  },
  {
   "cell_type": "code",
   "execution_count": 290,
   "metadata": {
    "ExecuteTime": {
     "end_time": "2021-10-22T02:03:51.838689Z",
     "start_time": "2021-10-22T02:03:51.815564Z"
    }
   },
   "outputs": [],
   "source": [
    "# Conduct an expriment under optimal design and get observation.\n",
    "# Here we use clean output of forward model as the true experimental result.\n",
    "y = model_4(theta_true.reshape(1, -1),\n",
    "            d_opt.reshape(1, -1)).flatten()"
   ]
  },
  {
   "cell_type": "code",
   "execution_count": 291,
   "metadata": {
    "ExecuteTime": {
     "end_time": "2021-10-22T02:03:57.343666Z",
     "start_time": "2021-10-22T02:03:56.777411Z"
    }
   },
   "outputs": [
    {
     "data": {
      "image/png": "[encoded data removed]",
      "text/plain": [
       "<Figure size 432x288 with 1 Axes>"
      ]
     },
     "metadata": {
      "needs_background": "light"
     },
     "output_type": "display_data"
    }
   ],
   "source": [
    "# Generate posterior samples and draw the histogram\n",
    "theta_post = oed_4_4.post_rvs(1000, d_opt, y)\n",
    "thetas = np.linspace(0, 1, 101)\n",
    "posts = oed_4_4.post_pdf(thetas.reshape(-1, 1), d_opt, y)\n",
    "posts /= posts.sum() * (thetas[1] - thetas[0])\n",
    "\n",
    "plt.figure(figsize=(6, 4))\n",
    "plt.hist(theta_post, density=True)\n",
    "plt.plot(thetas, posts)\n",
    "plt.xlabel('$\\\\theta$', fontsize=20)\n",
    "plt.ylabel('posterior', fontsize=20)\n",
    "plt.xticks(fontsize=15)\n",
    "plt.yticks(fontsize=15)\n",
    "plt.grid(ls='--')\n",
    "plt.xlim(0, 1)\n",
    "plt.show()"
   ]
  }
 ],
 "metadata": {
  "hide_input": false,
  "kernelspec": {
   "display_name": "Python 3",
   "language": "python",
   "name": "python3"
  },
  "language_info": {
   "codemirror_mode": {
    "name": "ipython",
    "version": 3
   },
   "file_extension": ".py",
   "mimetype": "text/x-python",
   "name": "python",
   "nbconvert_exporter": "python",
   "pygments_lexer": "ipython3",
   "version": "3.7.6"
  },
  "toc": {
   "base_numbering": 1,
   "nav_menu": {},
   "number_sections": true,
   "sideBar": true,
   "skip_h1_title": false,
   "title_cell": "Table of Contents",
   "title_sidebar": "Contents",
   "toc_cell": false,
   "toc_position": {},
   "toc_section_display": true,
   "toc_window_display": false
  },
  "varInspector": {
   "cols": {
    "lenName": 16,
    "lenType": 16,
    "lenVar": 40
   },
   "kernels_config": {
    "python": {
     "delete_cmd_postfix": "",
     "delete_cmd_prefix": "del ",
     "library": "var_list.py",
     "varRefreshCmd": "print(var_dic_list())"
    },
    "r": {
     "delete_cmd_postfix": ") ",
     "delete_cmd_prefix": "rm(",
     "library": "var_list.r",
     "varRefreshCmd": "cat(var_dic_list()) "
    }
   },
   "types_to_exclude": [
    "module",
    "function",
    "builtin_function_or_method",
    "instance",
    "_Feature"
   ],
   "window_display": false
  }
 },
 "nbformat": 4,
 "nbformat_minor": 2
}
